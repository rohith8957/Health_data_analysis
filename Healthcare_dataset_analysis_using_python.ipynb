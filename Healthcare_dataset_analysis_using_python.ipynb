{
 "cells": [
  {
   "cell_type": "code",
   "execution_count": 1,
   "id": "956bcd3f-3b53-41e6-95a1-6929e9c1b945",
   "metadata": {},
   "outputs": [],
   "source": [
    "import pandas as pd\n",
    "import numpy as np\n",
    "import matplotlib.pyplot as plt\n",
    "import seaborn as sns"
   ]
  },
  {
   "cell_type": "code",
   "execution_count": 2,
   "id": "aa736916-dceb-4641-89f8-3691e6c8ace1",
   "metadata": {},
   "outputs": [
    {
     "name": "stdout",
     "output_type": "stream",
     "text": [
      "(318438, 18)\n",
      "   case_id  Hospital_code Hospital_type_code  City_Code_Hospital  \\\n",
      "0        1              8                  c                   3   \n",
      "1        2              2                  c                   5   \n",
      "2        3             10                  e                   1   \n",
      "3        4             26                  b                   2   \n",
      "4        5             26                  b                   2   \n",
      "\n",
      "  Hospital_region_code  Available Extra Rooms in Hospital    Department  \\\n",
      "0                    Z                                  3  radiotherapy   \n",
      "1                    Z                                  2  radiotherapy   \n",
      "2                    X                                  2    anesthesia   \n",
      "3                    Y                                  2  radiotherapy   \n",
      "4                    Y                                  2  radiotherapy   \n",
      "\n",
      "  Ward_Type Ward_Facility_Code  Bed Grade  patientid  City_Code_Patient  \\\n",
      "0         R                  F        2.0      31397                7.0   \n",
      "1         S                  F        2.0      31397                7.0   \n",
      "2         S                  E        2.0      31397                7.0   \n",
      "3         R                  D        2.0      31397                7.0   \n",
      "4         S                  D        2.0      31397                7.0   \n",
      "\n",
      "  Type of Admission Severity of Illness  Visitors with Patient    Age  \\\n",
      "0         Emergency             Extreme                      2  51-60   \n",
      "1            Trauma             Extreme                      2  51-60   \n",
      "2            Trauma             Extreme                      2  51-60   \n",
      "3            Trauma             Extreme                      2  51-60   \n",
      "4            Trauma             Extreme                      2  51-60   \n",
      "\n",
      "   Admission_Deposit   Stay  \n",
      "0             4911.0   0-10  \n",
      "1             5954.0  41-50  \n",
      "2             4745.0  31-40  \n",
      "3             7272.0  41-50  \n",
      "4             5558.0  41-50  \n",
      "Index(['case_id', 'Hospital_code', 'Hospital_type_code', 'City_Code_Hospital',\n",
      "       'Hospital_region_code', 'Available Extra Rooms in Hospital',\n",
      "       'Department', 'Ward_Type', 'Ward_Facility_Code', 'Bed Grade',\n",
      "       'patientid', 'City_Code_Patient', 'Type of Admission',\n",
      "       'Severity of Illness', 'Visitors with Patient', 'Age',\n",
      "       'Admission_Deposit', 'Stay'],\n",
      "      dtype='object')\n"
     ]
    }
   ],
   "source": [
    "folder_path = r\"C:/Users/asus/Downloads/Healthcare\"\n",
    "train = pd.read_csv(r\"C:/Users/asus/Downloads/Healthcare\" + r\"/train_data.csv\")\n",
    "test = pd.read_csv(r\"C:/Users/asus/Downloads/Healthcare\" + r\"/test_data.csv\")\n",
    "data_dict = pd.read_csv(r\"C:/Users/asus/Downloads/Healthcare\" + r\"/train_data_dictionary.csv\")\n",
    "print(train.shape)\n",
    "print(train.head())\n",
    "print(train.columns)"
   ]
  },
  {
   "cell_type": "code",
   "execution_count": 3,
   "id": "eea92dda-6373-4c49-b89a-1a261a79562e",
   "metadata": {},
   "outputs": [
    {
     "name": "stdout",
     "output_type": "stream",
     "text": [
      "case_id                                 0\n",
      "Hospital_code                           0\n",
      "Hospital_type_code                      0\n",
      "City_Code_Hospital                      0\n",
      "Hospital_region_code                    0\n",
      "Available Extra Rooms in Hospital       0\n",
      "Department                              0\n",
      "Ward_Type                               0\n",
      "Ward_Facility_Code                      0\n",
      "Bed Grade                             113\n",
      "patientid                               0\n",
      "City_Code_Patient                    4532\n",
      "Type of Admission                       0\n",
      "Severity of Illness                     0\n",
      "Visitors with Patient                   0\n",
      "Age                                     0\n",
      "Admission_Deposit                       0\n",
      "Stay                                    0\n",
      "dtype: int64\n",
      "case_id                                int64\n",
      "Hospital_code                          int64\n",
      "Hospital_type_code                    object\n",
      "City_Code_Hospital                     int64\n",
      "Hospital_region_code                  object\n",
      "Available Extra Rooms in Hospital      int64\n",
      "Department                            object\n",
      "Ward_Type                             object\n",
      "Ward_Facility_Code                    object\n",
      "Bed Grade                            float64\n",
      "patientid                              int64\n",
      "City_Code_Patient                    float64\n",
      "Type of Admission                     object\n",
      "Severity of Illness                   object\n",
      "Visitors with Patient                  int64\n",
      "Age                                   object\n",
      "Admission_Deposit                    float64\n",
      "Stay                                  object\n",
      "dtype: object\n",
      "             case_id  Hospital_code  City_Code_Hospital  \\\n",
      "count  318438.000000  318438.000000       318438.000000   \n",
      "mean   159219.500000      18.318841            4.771717   \n",
      "std     91925.276847       8.633755            3.102535   \n",
      "min         1.000000       1.000000            1.000000   \n",
      "25%     79610.250000      11.000000            2.000000   \n",
      "50%    159219.500000      19.000000            5.000000   \n",
      "75%    238828.750000      26.000000            7.000000   \n",
      "max    318438.000000      32.000000           13.000000   \n",
      "\n",
      "       Available Extra Rooms in Hospital      Bed Grade      patientid  \\\n",
      "count                      318438.000000  318325.000000  318438.000000   \n",
      "mean                            3.197627       2.625807   65747.579472   \n",
      "std                             1.168171       0.873146   37979.936440   \n",
      "min                             0.000000       1.000000       1.000000   \n",
      "25%                             2.000000       2.000000   32847.000000   \n",
      "50%                             3.000000       3.000000   65724.500000   \n",
      "75%                             4.000000       3.000000   98470.000000   \n",
      "max                            24.000000       4.000000  131624.000000   \n",
      "\n",
      "       City_Code_Patient  Visitors with Patient  Admission_Deposit  \n",
      "count      313906.000000          318438.000000      318438.000000  \n",
      "mean            7.251859               3.284099        4880.749392  \n",
      "std             4.745266               1.764061        1086.776254  \n",
      "min             1.000000               0.000000        1800.000000  \n",
      "25%             4.000000               2.000000        4186.000000  \n",
      "50%             8.000000               3.000000        4741.000000  \n",
      "75%             8.000000               4.000000        5409.000000  \n",
      "max            38.000000              32.000000       11008.000000  \n"
     ]
    }
   ],
   "source": [
    "print(train.isnull().sum())\n",
    "print(train.dtypes)\n",
    "print(train.describe())"
   ]
  },
  {
   "cell_type": "code",
   "execution_count": 4,
   "id": "2754cede-715a-4ddd-b5cd-71c34fc11b28",
   "metadata": {},
   "outputs": [
    {
     "name": "stdout",
     "output_type": "stream",
     "text": [
      "['case_id', 'Hospital_code', 'Hospital_type_code', 'City_Code_Hospital', 'Hospital_region_code', 'Available Extra Rooms in Hospital', 'Department', 'Ward_Type', 'Ward_Facility_Code', 'Bed Grade', 'patientid', 'City_Code_Patient', 'Type of Admission', 'Severity of Illness', 'Visitors with Patient', 'Age', 'Admission_Deposit', 'Stay']\n"
     ]
    }
   ],
   "source": [
    "print(train.columns.tolist())"
   ]
  },
  {
   "cell_type": "code",
   "execution_count": 5,
   "id": "f897c23e-6ff0-4ca1-98ad-ee98efb90197",
   "metadata": {},
   "outputs": [
    {
     "data": {
      "text/plain": [
       "Age\n",
       "41-50     63749\n",
       "31-40     63639\n",
       "51-60     48514\n",
       "21-30     40843\n",
       "71-80     35792\n",
       "61-70     33687\n",
       "11-20     16768\n",
       "81-90      7890\n",
       "0-10       6254\n",
       "91-100     1302\n",
       "Name: count, dtype: int64"
      ]
     },
     "execution_count": 5,
     "metadata": {},
     "output_type": "execute_result"
    }
   ],
   "source": [
    "train['Age'].value_counts()"
   ]
  },
  {
   "cell_type": "code",
   "execution_count": 6,
   "id": "ece03b27-0fff-4d39-aecd-2c63d40f70f1",
   "metadata": {},
   "outputs": [
    {
     "data": {
      "text/plain": [
       "Department\n",
       "gynecology            249486\n",
       "anesthesia             29649\n",
       "radiotherapy           28516\n",
       "TB & Chest disease      9586\n",
       "surgery                 1201\n",
       "Name: count, dtype: int64"
      ]
     },
     "execution_count": 6,
     "metadata": {},
     "output_type": "execute_result"
    }
   ],
   "source": [
    "train['Department'].value_counts()"
   ]
  },
  {
   "cell_type": "code",
   "execution_count": 7,
   "id": "a69822a4-eaef-40bb-b29c-7dec4a28e908",
   "metadata": {},
   "outputs": [
    {
     "name": "stdout",
     "output_type": "stream",
     "text": [
      "number of duplicate rows: 0\n"
     ]
    }
   ],
   "source": [
    "duplicates = train.duplicated()\n",
    "print('number of duplicate rows:',duplicates.sum())"
   ]
  },
  {
   "cell_type": "code",
   "execution_count": 8,
   "id": "554b7da8-6ac5-4c89-afce-0f9a13e03bab",
   "metadata": {},
   "outputs": [
    {
     "name": "stdout",
     "output_type": "stream",
     "text": [
      "pandas installed sucessfully\n"
     ]
    }
   ],
   "source": [
    "import pandas as pd\n",
    "print('pandas installed sucessfully')"
   ]
  },
  {
   "cell_type": "code",
   "execution_count": 9,
   "id": "e0cd5ced-467f-426e-982e-628ffa6be355",
   "metadata": {},
   "outputs": [
    {
     "name": "stdout",
     "output_type": "stream",
     "text": [
      "['sample_sub.csv', 'test_data.csv', 'train_data.csv', 'train_data_dictionary.csv']\n"
     ]
    }
   ],
   "source": [
    "import os\n",
    "print(os.listdir(r\"C:/Users/asus/Downloads/Healthcare\"))"
   ]
  },
  {
   "cell_type": "markdown",
   "id": "c3917122-0815-447a-ae94-2edd8d887e81",
   "metadata": {},
   "source": []
  },
  {
   "cell_type": "code",
   "execution_count": 10,
   "id": "99514398-6548-4def-8a81-5c1fd4200a55",
   "metadata": {},
   "outputs": [
    {
     "name": "stdout",
     "output_type": "stream",
     "text": [
      "(318438, 18)\n",
      "   case_id  Hospital_code Hospital_type_code  City_Code_Hospital  \\\n",
      "0        1              8                  c                   3   \n",
      "1        2              2                  c                   5   \n",
      "2        3             10                  e                   1   \n",
      "3        4             26                  b                   2   \n",
      "4        5             26                  b                   2   \n",
      "\n",
      "  Hospital_region_code  Available Extra Rooms in Hospital    Department  \\\n",
      "0                    Z                                  3  radiotherapy   \n",
      "1                    Z                                  2  radiotherapy   \n",
      "2                    X                                  2    anesthesia   \n",
      "3                    Y                                  2  radiotherapy   \n",
      "4                    Y                                  2  radiotherapy   \n",
      "\n",
      "  Ward_Type Ward_Facility_Code  Bed Grade  patientid  City_Code_Patient  \\\n",
      "0         R                  F        2.0      31397                7.0   \n",
      "1         S                  F        2.0      31397                7.0   \n",
      "2         S                  E        2.0      31397                7.0   \n",
      "3         R                  D        2.0      31397                7.0   \n",
      "4         S                  D        2.0      31397                7.0   \n",
      "\n",
      "  Type of Admission Severity of Illness  Visitors with Patient    Age  \\\n",
      "0         Emergency             Extreme                      2  51-60   \n",
      "1            Trauma             Extreme                      2  51-60   \n",
      "2            Trauma             Extreme                      2  51-60   \n",
      "3            Trauma             Extreme                      2  51-60   \n",
      "4            Trauma             Extreme                      2  51-60   \n",
      "\n",
      "   Admission_Deposit   Stay  \n",
      "0             4911.0   0-10  \n",
      "1             5954.0  41-50  \n",
      "2             4745.0  31-40  \n",
      "3             7272.0  41-50  \n",
      "4             5558.0  41-50  \n"
     ]
    }
   ],
   "source": [
    "print(train.shape)\n",
    "print(train.head())"
   ]
  },
  {
   "cell_type": "code",
   "execution_count": 11,
   "id": "b28ed330-a3c0-46e2-9605-62d8d51367e7",
   "metadata": {},
   "outputs": [
    {
     "name": "stdout",
     "output_type": "stream",
     "text": [
      "                                    case_id  Hospital_code  \\\n",
      "case_id                            1.000000      -0.043023   \n",
      "Hospital_code                     -0.043023       1.000000   \n",
      "City_Code_Hospital                -0.011352       0.128294   \n",
      "Available Extra Rooms in Hospital  0.042580      -0.059638   \n",
      "Bed Grade                          0.013702      -0.013739   \n",
      "patientid                         -0.004150       0.002291   \n",
      "City_Code_Patient                  0.065196      -0.015530   \n",
      "Visitors with Patient              0.001309      -0.028500   \n",
      "Admission_Deposit                 -0.045972       0.045446   \n",
      "\n",
      "                                   City_Code_Hospital  \\\n",
      "case_id                                     -0.011352   \n",
      "Hospital_code                                0.128294   \n",
      "City_Code_Hospital                           1.000000   \n",
      "Available Extra Rooms in Hospital           -0.045771   \n",
      "Bed Grade                                   -0.049309   \n",
      "patientid                                    0.000750   \n",
      "City_Code_Patient                           -0.023988   \n",
      "Visitors with Patient                        0.018184   \n",
      "Admission_Deposit                           -0.034455   \n",
      "\n",
      "                                   Available Extra Rooms in Hospital  \\\n",
      "case_id                                                     0.042580   \n",
      "Hospital_code                                              -0.059638   \n",
      "City_Code_Hospital                                         -0.045771   \n",
      "Available Extra Rooms in Hospital                           1.000000   \n",
      "Bed Grade                                                  -0.115868   \n",
      "patientid                                                   0.000921   \n",
      "City_Code_Patient                                          -0.009681   \n",
      "Visitors with Patient                                       0.096714   \n",
      "Admission_Deposit                                          -0.143739   \n",
      "\n",
      "                                   Bed Grade  patientid  City_Code_Patient  \\\n",
      "case_id                             0.013702  -0.004150           0.065196   \n",
      "Hospital_code                      -0.013739   0.002291          -0.015530   \n",
      "City_Code_Hospital                 -0.049309   0.000750          -0.023988   \n",
      "Available Extra Rooms in Hospital  -0.115868   0.000921          -0.009681   \n",
      "Bed Grade                           1.000000   0.001645          -0.008105   \n",
      "patientid                           0.001645   1.000000           0.002002   \n",
      "City_Code_Patient                  -0.008105   0.002002           1.000000   \n",
      "Visitors with Patient               0.088945   0.006889          -0.012074   \n",
      "Admission_Deposit                   0.073833  -0.000877           0.025837   \n",
      "\n",
      "                                   Visitors with Patient  Admission_Deposit  \n",
      "case_id                                         0.001309          -0.045972  \n",
      "Hospital_code                                  -0.028500           0.045446  \n",
      "City_Code_Hospital                              0.018184          -0.034455  \n",
      "Available Extra Rooms in Hospital               0.096714          -0.143739  \n",
      "Bed Grade                                       0.088945           0.073833  \n",
      "patientid                                       0.006889          -0.000877  \n",
      "City_Code_Patient                              -0.012074           0.025837  \n",
      "Visitors with Patient                           1.000000          -0.150358  \n",
      "Admission_Deposit                              -0.150358           1.000000  \n"
     ]
    }
   ],
   "source": [
    "numeric_cols = train.select_dtypes(include='number').columns\n",
    "print(train[numeric_cols].corr())"
   ]
  },
  {
   "cell_type": "code",
   "execution_count": 12,
   "id": "8405c3b8-3a10-4a4f-a000-4f42ee61e781",
   "metadata": {},
   "outputs": [],
   "source": [
    "import pandas as pd"
   ]
  },
  {
   "cell_type": "code",
   "execution_count": 13,
   "id": "bb317662-a201-4a32-8dca-d1a009a22e50",
   "metadata": {},
   "outputs": [
    {
     "name": "stdout",
     "output_type": "stream",
     "text": [
      "   case_id  Hospital_code Hospital_type_code  City_Code_Hospital  \\\n",
      "0        1              8                  c                   3   \n",
      "1        2              2                  c                   5   \n",
      "2        3             10                  e                   1   \n",
      "3        4             26                  b                   2   \n",
      "4        5             26                  b                   2   \n",
      "\n",
      "  Hospital_region_code  Available Extra Rooms in Hospital    Department  \\\n",
      "0                    Z                                  3  radiotherapy   \n",
      "1                    Z                                  2  radiotherapy   \n",
      "2                    X                                  2    anesthesia   \n",
      "3                    Y                                  2  radiotherapy   \n",
      "4                    Y                                  2  radiotherapy   \n",
      "\n",
      "  Ward_Type Ward_Facility_Code  Bed Grade  patientid  City_Code_Patient  \\\n",
      "0         R                  F        2.0      31397                7.0   \n",
      "1         S                  F        2.0      31397                7.0   \n",
      "2         S                  E        2.0      31397                7.0   \n",
      "3         R                  D        2.0      31397                7.0   \n",
      "4         S                  D        2.0      31397                7.0   \n",
      "\n",
      "  Type of Admission Severity of Illness  Visitors with Patient    Age  \\\n",
      "0         Emergency             Extreme                      2  51-60   \n",
      "1            Trauma             Extreme                      2  51-60   \n",
      "2            Trauma             Extreme                      2  51-60   \n",
      "3            Trauma             Extreme                      2  51-60   \n",
      "4            Trauma             Extreme                      2  51-60   \n",
      "\n",
      "   Admission_Deposit   Stay  \n",
      "0             4911.0   0-10  \n",
      "1             5954.0  41-50  \n",
      "2             4745.0  31-40  \n",
      "3             7272.0  41-50  \n",
      "4             5558.0  41-50  \n"
     ]
    }
   ],
   "source": [
    "train_data = pd.read_csv(r\"C:/Users/asus/Downloads/Healthcare\" + r\"/train_data.csv\")\n",
    "print(train.head())\n"
   ]
  },
  {
   "cell_type": "code",
   "execution_count": 14,
   "id": "210aa754-4b30-4d11-a07b-423bc5eb5dd3",
   "metadata": {},
   "outputs": [],
   "source": [
    "import matplotlib.pyplot as plt\n",
    "import seaborn as sns"
   ]
  },
  {
   "cell_type": "code",
   "execution_count": 15,
   "id": "be6ada62-2a41-4dda-96f6-a7e9eb3a73c0",
   "metadata": {},
   "outputs": [],
   "source": [
    "plt.style.use('seaborn-v0_8')\n",
    "sns.set_palette('husl')"
   ]
  },
  {
   "cell_type": "code",
   "execution_count": 16,
   "id": "39c2fcc9-4005-4a24-82af-243a6971c6be",
   "metadata": {},
   "outputs": [
    {
     "data": {
      "image/png": "[encoded data removed]",
      "text/plain": [
       "<Figure size 1000x500 with 1 Axes>"
      ]
     },
     "metadata": {},
     "output_type": "display_data"
    },
    {
     "data": {
      "image/png": "[encoded data removed]",
      "text/plain": [
       "<Figure size 1400x500 with 2 Axes>"
      ]
     },
     "metadata": {},
     "output_type": "display_data"
    },
    {
     "data": {
      "image/png": "[encoded data removed]",
      "text/plain": [
       "<Figure size 1000x500 with 1 Axes>"
      ]
     },
     "metadata": {},
     "output_type": "display_data"
    },
    {
     "data": {
      "image/png": "[encoded data removed]",
      "text/plain": [
       "<Figure size 800x500 with 1 Axes>"
      ]
     },
     "metadata": {},
     "output_type": "display_data"
    },
    {
     "data": {
      "image/png": "[encoded data removed]",
      "text/plain": [
       "<Figure size 800x500 with 1 Axes>"
      ]
     },
     "metadata": {},
     "output_type": "display_data"
    }
   ],
   "source": [
    "plt.figure(figsize=(10,5))\n",
    "sns.countplot(x='Stay', data=train_data)\n",
    "plt.title('Distribution of Length of Stay')\n",
    "plt.xticks(rotation=45)\n",
    "plt.show()\n",
    "\n",
    "fig, axes = plt.subplots(1, 2, figsize=(14,5))\n",
    "sns.countplot(x='Hospital_type_code', data=train_data, ax=axes[0])\n",
    "axes[0].set_title('Hospital Type Distribution')\n",
    "\n",
    "sns.countplot(x='Hospital_region_code', data=train_data, ax=axes[1])\n",
    "axes[1].set_title('Hospital Region Distribution')\n",
    "plt.show()\n",
    "\n",
    "plt.figure(figsize=(10,5))\n",
    "sns.countplot(x='Department', hue='Stay', data=train_data)\n",
    "plt.title('Department vs Stay')\n",
    "plt.xticks(rotation=45)\n",
    "plt.legend(bbox_to_anchor=(1,1))\n",
    "plt.show()\n",
    "\n",
    "plt.figure(figsize=(8,5))\n",
    "sns.countplot(x='Severity of Illness', hue='Stay', data=train_data)\n",
    "plt.title('Severity of Illness vs Stay')\n",
    "plt.xticks(rotation=45)\n",
    "plt.legend(bbox_to_anchor=(1,1))\n",
    "plt.show()\n",
    "\n",
    "plt.figure(figsize=(8,5))\n",
    "sns.countplot(x='Age', hue='Stay', data=train_data)\n",
    "plt.title('Age vs Stay Duration')\n",
    "plt.xticks(rotation=45)\n",
    "plt.legend(bbox_to_anchor=(1,1))\n",
    "plt.show()"
   ]
  },
  {
   "cell_type": "code",
   "execution_count": 29,
   "id": "0a969511-b737-41e8-abad-f252119ed694",
   "metadata": {},
   "outputs": [],
   "source": [
    "import pandas as pd\n",
    "from sklearn.model_selection import train_test_split\n",
    "\n",
    "# Define x and y before using them in train_test_split\n",
    "# For example, if you're working with a DataFrame called 'df':\n",
    "# x would typically be your features and y would be your target variable\n",
    "df = pd.read_csv(r\"C:/Users/asus/Downloads/Healthcare\" + r\"/train_data.csv\")  # Replace with your actual data source\n",
    "x = df.drop('Stay', axis=1)  # Replace 'target_column' with your actual target column name\n",
    "y = df['Stay']  # Replace 'target_column' with your actual target column name\n",
    "\n",
    "# Now x and y are defined, so train_test_split will work\n",
    "x_train, x_val, y_train, y_val = train_test_split(x, y, test_size=0.2, random_state=42)"
   ]
  },
  {
   "cell_type": "code",
   "execution_count": 26,
   "id": "5ae5f22c-0831-4441-9cd4-27ed80ccbbef",
   "metadata": {},
   "outputs": [
    {
     "name": "stdout",
     "output_type": "stream",
     "text": [
      "x_train shape: (254750, 17)\n",
      "x_val shape: (63688, 17)\n",
      "y_train shape: (254750,)\n",
      "y_train shape: (254750,)\n",
      ":\n",
      "Total rows chech: 318438 == 318438\n"
     ]
    }
   ],
   "source": [
    "print(\"x_train shape:\", x_train.shape)\n",
    "print(\"x_val shape:\", x_val.shape)\n",
    "print(\"y_train shape:\", y_train.shape)\n",
    "print(\"y_train shape:\", y_train.shape)\n",
    "\n",
    "print(\":\\nTotal rows chech:\", len(x_train) + len(x_val), \"==\", len(train_data))"
   ]
  },
  {
   "cell_type": "code",
   "execution_count": 18,
   "id": "40c5446f-fb38-4e39-a3f6-0959f2cd4dc0",
   "metadata": {},
   "outputs": [
    {
     "data": {
      "text/plain": [
       "Index(['Hospital_type_code', 'Hospital_region_code', 'Department', 'Ward_Type',\n",
       "       'Ward_Facility_Code', 'Type of Admission', 'Severity of Illness', 'Age',\n",
       "       'Stay'],\n",
       "      dtype='object')"
      ]
     },
     "execution_count": 18,
     "metadata": {},
     "output_type": "execute_result"
    }
   ],
   "source": [
    "train_data.select_dtypes(include=['object']).columns"
   ]
  },
  {
   "cell_type": "code",
   "execution_count": 32,
   "id": "2e20cd49-82d4-4f55-817b-da706f8009fa",
   "metadata": {},
   "outputs": [],
   "source": [
    "for col in ['Hospital_type_code', 'Hospital_region_code', 'Department', 'Ward_Type',\n",
    "       'Ward_Facility_Code', 'Type of Admission', 'Severity of Illness', 'Age',\n",
    "       'Stay']:\n",
    "    train_data[col] = train_data[col].astype('category').cat.codes"
   ]
  },
  {
   "cell_type": "code",
   "execution_count": 35,
   "id": "87ec1d92-8655-49ce-bac5-ebda9bf12a40",
   "metadata": {},
   "outputs": [
    {
     "data": {
      "text/plain": [
       "Index([], dtype='object')"
      ]
     },
     "execution_count": 35,
     "metadata": {},
     "output_type": "execute_result"
    }
   ],
   "source": [
    "train_data.select_dtypes(include=['object']).columns"
   ]
  },
  {
   "cell_type": "code",
   "execution_count": 36,
   "id": "0c512d68-0c70-4ecd-95ae-286f6b330ab2",
   "metadata": {},
   "outputs": [],
   "source": [
    "x = train_data.drop(['Stay'], axis=1)\n",
    "y = train_data['Stay']"
   ]
  },
  {
   "cell_type": "code",
   "execution_count": 39,
   "id": "3f8ae462-ad6c-447b-9d11-1463c7da1b3b",
   "metadata": {},
   "outputs": [],
   "source": [
    "from sklearn.model_selection import train_test_split\n",
    "x_train, x_val, y_train, y_val = train_test_split(x, y, test_size=0.2, random_state=42)"
   ]
  },
  {
   "cell_type": "code",
   "execution_count": 41,
   "id": "33ccf03c-45d1-44eb-b457-dab36bba156c",
   "metadata": {},
   "outputs": [
    {
     "data": {
      "text/html": [
       "<style>#sk-container-id-1 {\n",
       "  /* Definition of color scheme common for light and dark mode */\n",
       "  --sklearn-color-text: #000;\n",
       "  --sklearn-color-text-muted: #666;\n",
       "  --sklearn-color-line: gray;\n",
       "  /* Definition of color scheme for unfitted estimators */\n",
       "  --sklearn-color-unfitted-level-0: #fff5e6;\n",
       "  --sklearn-color-unfitted-level-1: #f6e4d2;\n",
       "  --sklearn-color-unfitted-level-2: #ffe0b3;\n",
       "  --sklearn-color-unfitted-level-3: chocolate;\n",
       "  /* Definition of color scheme for fitted estimators */\n",
       "  --sklearn-color-fitted-level-0: #f0f8ff;\n",
       "  --sklearn-color-fitted-level-1: #d4ebff;\n",
       "  --sklearn-color-fitted-level-2: #b3dbfd;\n",
       "  --sklearn-color-fitted-level-3: cornflowerblue;\n",
       "\n",
       "  /* Specific color for light theme */\n",
       "  --sklearn-color-text-on-default-background: var(--sg-text-color, var(--theme-code-foreground, var(--jp-content-font-color1, black)));\n",
       "  --sklearn-color-background: var(--sg-background-color, var(--theme-background, var(--jp-layout-color0, white)));\n",
       "  --sklearn-color-border-box: var(--sg-text-color, var(--theme-code-foreground, var(--jp-content-font-color1, black)));\n",
       "  --sklearn-color-icon: #696969;\n",
       "\n",
       "  @media (prefers-color-scheme: dark) {\n",
       "    /* Redefinition of color scheme for dark theme */\n",
       "    --sklearn-color-text-on-default-background: var(--sg-text-color, var(--theme-code-foreground, var(--jp-content-font-color1, white)));\n",
       "    --sklearn-color-background: var(--sg-background-color, var(--theme-background, var(--jp-layout-color0, #111)));\n",
       "    --sklearn-color-border-box: var(--sg-text-color, var(--theme-code-foreground, var(--jp-content-font-color1, white)));\n",
       "    --sklearn-color-icon: #878787;\n",
       "  }\n",
       "}\n",
       "\n",
       "#sk-container-id-1 {\n",
       "  color: var(--sklearn-color-text);\n",
       "}\n",
       "\n",
       "#sk-container-id-1 pre {\n",
       "  padding: 0;\n",
       "}\n",
       "\n",
       "#sk-container-id-1 input.sk-hidden--visually {\n",
       "  border: 0;\n",
       "  clip: rect(1px 1px 1px 1px);\n",
       "  clip: rect(1px, 1px, 1px, 1px);\n",
       "  height: 1px;\n",
       "  margin: -1px;\n",
       "  overflow: hidden;\n",
       "  padding: 0;\n",
       "  position: absolute;\n",
       "  width: 1px;\n",
       "}\n",
       "\n",
       "#sk-container-id-1 div.sk-dashed-wrapped {\n",
       "  border: 1px dashed var(--sklearn-color-line);\n",
       "  margin: 0 0.4em 0.5em 0.4em;\n",
       "  box-sizing: border-box;\n",
       "  padding-bottom: 0.4em;\n",
       "  background-color: var(--sklearn-color-background);\n",
       "}\n",
       "\n",
       "#sk-container-id-1 div.sk-container {\n",
       "  /* jupyter's `normalize.less` sets `[hidden] { display: none; }`\n",
       "     but bootstrap.min.css set `[hidden] { display: none !important; }`\n",
       "     so we also need the `!important` here to be able to override the\n",
       "     default hidden behavior on the sphinx rendered scikit-learn.org.\n",
       "     See: https://github.com/scikit-learn/scikit-learn/issues/21755 */\n",
       "  display: inline-block !important;\n",
       "  position: relative;\n",
       "}\n",
       "\n",
       "#sk-container-id-1 div.sk-text-repr-fallback {\n",
       "  display: none;\n",
       "}\n",
       "\n",
       "div.sk-parallel-item,\n",
       "div.sk-serial,\n",
       "div.sk-item {\n",
       "  /* draw centered vertical line to link estimators */\n",
       "  background-image: linear-gradient(var(--sklearn-color-text-on-default-background), var(--sklearn-color-text-on-default-background));\n",
       "  background-size: 2px 100%;\n",
       "  background-repeat: no-repeat;\n",
       "  background-position: center center;\n",
       "}\n",
       "\n",
       "/* Parallel-specific style estimator block */\n",
       "\n",
       "#sk-container-id-1 div.sk-parallel-item::after {\n",
       "  content: \"\";\n",
       "  width: 100%;\n",
       "  border-bottom: 2px solid var(--sklearn-color-text-on-default-background);\n",
       "  flex-grow: 1;\n",
       "}\n",
       "\n",
       "#sk-container-id-1 div.sk-parallel {\n",
       "  display: flex;\n",
       "  align-items: stretch;\n",
       "  justify-content: center;\n",
       "  background-color: var(--sklearn-color-background);\n",
       "  position: relative;\n",
       "}\n",
       "\n",
       "#sk-container-id-1 div.sk-parallel-item {\n",
       "  display: flex;\n",
       "  flex-direction: column;\n",
       "}\n",
       "\n",
       "#sk-container-id-1 div.sk-parallel-item:first-child::after {\n",
       "  align-self: flex-end;\n",
       "  width: 50%;\n",
       "}\n",
       "\n",
       "#sk-container-id-1 div.sk-parallel-item:last-child::after {\n",
       "  align-self: flex-start;\n",
       "  width: 50%;\n",
       "}\n",
       "\n",
       "#sk-container-id-1 div.sk-parallel-item:only-child::after {\n",
       "  width: 0;\n",
       "}\n",
       "\n",
       "/* Serial-specific style estimator block */\n",
       "\n",
       "#sk-container-id-1 div.sk-serial {\n",
       "  display: flex;\n",
       "  flex-direction: column;\n",
       "  align-items: center;\n",
       "  background-color: var(--sklearn-color-background);\n",
       "  padding-right: 1em;\n",
       "  padding-left: 1em;\n",
       "}\n",
       "\n",
       "\n",
       "/* Toggleable style: style used for estimator/Pipeline/ColumnTransformer box that is\n",
       "clickable and can be expanded/collapsed.\n",
       "- Pipeline and ColumnTransformer use this feature and define the default style\n",
       "- Estimators will overwrite some part of the style using the `sk-estimator` class\n",
       "*/\n",
       "\n",
       "/* Pipeline and ColumnTransformer style (default) */\n",
       "\n",
       "#sk-container-id-1 div.sk-toggleable {\n",
       "  /* Default theme specific background. It is overwritten whether we have a\n",
       "  specific estimator or a Pipeline/ColumnTransformer */\n",
       "  background-color: var(--sklearn-color-background);\n",
       "}\n",
       "\n",
       "/* Toggleable label */\n",
       "#sk-container-id-1 label.sk-toggleable__label {\n",
       "  cursor: pointer;\n",
       "  display: flex;\n",
       "  width: 100%;\n",
       "  margin-bottom: 0;\n",
       "  padding: 0.5em;\n",
       "  box-sizing: border-box;\n",
       "  text-align: center;\n",
       "  align-items: start;\n",
       "  justify-content: space-between;\n",
       "  gap: 0.5em;\n",
       "}\n",
       "\n",
       "#sk-container-id-1 label.sk-toggleable__label .caption {\n",
       "  font-size: 0.6rem;\n",
       "  font-weight: lighter;\n",
       "  color: var(--sklearn-color-text-muted);\n",
       "}\n",
       "\n",
       "#sk-container-id-1 label.sk-toggleable__label-arrow:before {\n",
       "  /* Arrow on the left of the label */\n",
       "  content: \"▸\";\n",
       "  float: left;\n",
       "  margin-right: 0.25em;\n",
       "  color: var(--sklearn-color-icon);\n",
       "}\n",
       "\n",
       "#sk-container-id-1 label.sk-toggleable__label-arrow:hover:before {\n",
       "  color: var(--sklearn-color-text);\n",
       "}\n",
       "\n",
       "/* Toggleable content - dropdown */\n",
       "\n",
       "#sk-container-id-1 div.sk-toggleable__content {\n",
       "  max-height: 0;\n",
       "  max-width: 0;\n",
       "  overflow: hidden;\n",
       "  text-align: left;\n",
       "  /* unfitted */\n",
       "  background-color: var(--sklearn-color-unfitted-level-0);\n",
       "}\n",
       "\n",
       "#sk-container-id-1 div.sk-toggleable__content.fitted {\n",
       "  /* fitted */\n",
       "  background-color: var(--sklearn-color-fitted-level-0);\n",
       "}\n",
       "\n",
       "#sk-container-id-1 div.sk-toggleable__content pre {\n",
       "  margin: 0.2em;\n",
       "  border-radius: 0.25em;\n",
       "  color: var(--sklearn-color-text);\n",
       "  /* unfitted */\n",
       "  background-color: var(--sklearn-color-unfitted-level-0);\n",
       "}\n",
       "\n",
       "#sk-container-id-1 div.sk-toggleable__content.fitted pre {\n",
       "  /* unfitted */\n",
       "  background-color: var(--sklearn-color-fitted-level-0);\n",
       "}\n",
       "\n",
       "#sk-container-id-1 input.sk-toggleable__control:checked~div.sk-toggleable__content {\n",
       "  /* Expand drop-down */\n",
       "  max-height: 200px;\n",
       "  max-width: 100%;\n",
       "  overflow: auto;\n",
       "}\n",
       "\n",
       "#sk-container-id-1 input.sk-toggleable__control:checked~label.sk-toggleable__label-arrow:before {\n",
       "  content: \"▾\";\n",
       "}\n",
       "\n",
       "/* Pipeline/ColumnTransformer-specific style */\n",
       "\n",
       "#sk-container-id-1 div.sk-label input.sk-toggleable__control:checked~label.sk-toggleable__label {\n",
       "  color: var(--sklearn-color-text);\n",
       "  background-color: var(--sklearn-color-unfitted-level-2);\n",
       "}\n",
       "\n",
       "#sk-container-id-1 div.sk-label.fitted input.sk-toggleable__control:checked~label.sk-toggleable__label {\n",
       "  background-color: var(--sklearn-color-fitted-level-2);\n",
       "}\n",
       "\n",
       "/* Estimator-specific style */\n",
       "\n",
       "/* Colorize estimator box */\n",
       "#sk-container-id-1 div.sk-estimator input.sk-toggleable__control:checked~label.sk-toggleable__label {\n",
       "  /* unfitted */\n",
       "  background-color: var(--sklearn-color-unfitted-level-2);\n",
       "}\n",
       "\n",
       "#sk-container-id-1 div.sk-estimator.fitted input.sk-toggleable__control:checked~label.sk-toggleable__label {\n",
       "  /* fitted */\n",
       "  background-color: var(--sklearn-color-fitted-level-2);\n",
       "}\n",
       "\n",
       "#sk-container-id-1 div.sk-label label.sk-toggleable__label,\n",
       "#sk-container-id-1 div.sk-label label {\n",
       "  /* The background is the default theme color */\n",
       "  color: var(--sklearn-color-text-on-default-background);\n",
       "}\n",
       "\n",
       "/* On hover, darken the color of the background */\n",
       "#sk-container-id-1 div.sk-label:hover label.sk-toggleable__label {\n",
       "  color: var(--sklearn-color-text);\n",
       "  background-color: var(--sklearn-color-unfitted-level-2);\n",
       "}\n",
       "\n",
       "/* Label box, darken color on hover, fitted */\n",
       "#sk-container-id-1 div.sk-label.fitted:hover label.sk-toggleable__label.fitted {\n",
       "  color: var(--sklearn-color-text);\n",
       "  background-color: var(--sklearn-color-fitted-level-2);\n",
       "}\n",
       "\n",
       "/* Estimator label */\n",
       "\n",
       "#sk-container-id-1 div.sk-label label {\n",
       "  font-family: monospace;\n",
       "  font-weight: bold;\n",
       "  display: inline-block;\n",
       "  line-height: 1.2em;\n",
       "}\n",
       "\n",
       "#sk-container-id-1 div.sk-label-container {\n",
       "  text-align: center;\n",
       "}\n",
       "\n",
       "/* Estimator-specific */\n",
       "#sk-container-id-1 div.sk-estimator {\n",
       "  font-family: monospace;\n",
       "  border: 1px dotted var(--sklearn-color-border-box);\n",
       "  border-radius: 0.25em;\n",
       "  box-sizing: border-box;\n",
       "  margin-bottom: 0.5em;\n",
       "  /* unfitted */\n",
       "  background-color: var(--sklearn-color-unfitted-level-0);\n",
       "}\n",
       "\n",
       "#sk-container-id-1 div.sk-estimator.fitted {\n",
       "  /* fitted */\n",
       "  background-color: var(--sklearn-color-fitted-level-0);\n",
       "}\n",
       "\n",
       "/* on hover */\n",
       "#sk-container-id-1 div.sk-estimator:hover {\n",
       "  /* unfitted */\n",
       "  background-color: var(--sklearn-color-unfitted-level-2);\n",
       "}\n",
       "\n",
       "#sk-container-id-1 div.sk-estimator.fitted:hover {\n",
       "  /* fitted */\n",
       "  background-color: var(--sklearn-color-fitted-level-2);\n",
       "}\n",
       "\n",
       "/* Specification for estimator info (e.g. \"i\" and \"?\") */\n",
       "\n",
       "/* Common style for \"i\" and \"?\" */\n",
       "\n",
       ".sk-estimator-doc-link,\n",
       "a:link.sk-estimator-doc-link,\n",
       "a:visited.sk-estimator-doc-link {\n",
       "  float: right;\n",
       "  font-size: smaller;\n",
       "  line-height: 1em;\n",
       "  font-family: monospace;\n",
       "  background-color: var(--sklearn-color-background);\n",
       "  border-radius: 1em;\n",
       "  height: 1em;\n",
       "  width: 1em;\n",
       "  text-decoration: none !important;\n",
       "  margin-left: 0.5em;\n",
       "  text-align: center;\n",
       "  /* unfitted */\n",
       "  border: var(--sklearn-color-unfitted-level-1) 1pt solid;\n",
       "  color: var(--sklearn-color-unfitted-level-1);\n",
       "}\n",
       "\n",
       ".sk-estimator-doc-link.fitted,\n",
       "a:link.sk-estimator-doc-link.fitted,\n",
       "a:visited.sk-estimator-doc-link.fitted {\n",
       "  /* fitted */\n",
       "  border: var(--sklearn-color-fitted-level-1) 1pt solid;\n",
       "  color: var(--sklearn-color-fitted-level-1);\n",
       "}\n",
       "\n",
       "/* On hover */\n",
       "div.sk-estimator:hover .sk-estimator-doc-link:hover,\n",
       ".sk-estimator-doc-link:hover,\n",
       "div.sk-label-container:hover .sk-estimator-doc-link:hover,\n",
       ".sk-estimator-doc-link:hover {\n",
       "  /* unfitted */\n",
       "  background-color: var(--sklearn-color-unfitted-level-3);\n",
       "  color: var(--sklearn-color-background);\n",
       "  text-decoration: none;\n",
       "}\n",
       "\n",
       "div.sk-estimator.fitted:hover .sk-estimator-doc-link.fitted:hover,\n",
       ".sk-estimator-doc-link.fitted:hover,\n",
       "div.sk-label-container:hover .sk-estimator-doc-link.fitted:hover,\n",
       ".sk-estimator-doc-link.fitted:hover {\n",
       "  /* fitted */\n",
       "  background-color: var(--sklearn-color-fitted-level-3);\n",
       "  color: var(--sklearn-color-background);\n",
       "  text-decoration: none;\n",
       "}\n",
       "\n",
       "/* Span, style for the box shown on hovering the info icon */\n",
       ".sk-estimator-doc-link span {\n",
       "  display: none;\n",
       "  z-index: 9999;\n",
       "  position: relative;\n",
       "  font-weight: normal;\n",
       "  right: .2ex;\n",
       "  padding: .5ex;\n",
       "  margin: .5ex;\n",
       "  width: min-content;\n",
       "  min-width: 20ex;\n",
       "  max-width: 50ex;\n",
       "  color: var(--sklearn-color-text);\n",
       "  box-shadow: 2pt 2pt 4pt #999;\n",
       "  /* unfitted */\n",
       "  background: var(--sklearn-color-unfitted-level-0);\n",
       "  border: .5pt solid var(--sklearn-color-unfitted-level-3);\n",
       "}\n",
       "\n",
       ".sk-estimator-doc-link.fitted span {\n",
       "  /* fitted */\n",
       "  background: var(--sklearn-color-fitted-level-0);\n",
       "  border: var(--sklearn-color-fitted-level-3);\n",
       "}\n",
       "\n",
       ".sk-estimator-doc-link:hover span {\n",
       "  display: block;\n",
       "}\n",
       "\n",
       "/* \"?\"-specific style due to the `<a>` HTML tag */\n",
       "\n",
       "#sk-container-id-1 a.estimator_doc_link {\n",
       "  float: right;\n",
       "  font-size: 1rem;\n",
       "  line-height: 1em;\n",
       "  font-family: monospace;\n",
       "  background-color: var(--sklearn-color-background);\n",
       "  border-radius: 1rem;\n",
       "  height: 1rem;\n",
       "  width: 1rem;\n",
       "  text-decoration: none;\n",
       "  /* unfitted */\n",
       "  color: var(--sklearn-color-unfitted-level-1);\n",
       "  border: var(--sklearn-color-unfitted-level-1) 1pt solid;\n",
       "}\n",
       "\n",
       "#sk-container-id-1 a.estimator_doc_link.fitted {\n",
       "  /* fitted */\n",
       "  border: var(--sklearn-color-fitted-level-1) 1pt solid;\n",
       "  color: var(--sklearn-color-fitted-level-1);\n",
       "}\n",
       "\n",
       "/* On hover */\n",
       "#sk-container-id-1 a.estimator_doc_link:hover {\n",
       "  /* unfitted */\n",
       "  background-color: var(--sklearn-color-unfitted-level-3);\n",
       "  color: var(--sklearn-color-background);\n",
       "  text-decoration: none;\n",
       "}\n",
       "\n",
       "#sk-container-id-1 a.estimator_doc_link.fitted:hover {\n",
       "  /* fitted */\n",
       "  background-color: var(--sklearn-color-fitted-level-3);\n",
       "}\n",
       "</style><div id=\"sk-container-id-1\" class=\"sk-top-container\"><div class=\"sk-text-repr-fallback\"><pre>DecisionTreeClassifier(random_state=42)</pre><b>In a Jupyter environment, please rerun this cell to show the HTML representation or trust the notebook. <br />On GitHub, the HTML representation is unable to render, please try loading this page with nbviewer.org.</b></div><div class=\"sk-container\" hidden><div class=\"sk-item\"><div class=\"sk-estimator fitted sk-toggleable\"><input class=\"sk-toggleable__control sk-hidden--visually\" id=\"sk-estimator-id-1\" type=\"checkbox\" checked><label for=\"sk-estimator-id-1\" class=\"sk-toggleable__label fitted sk-toggleable__label-arrow\"><div><div>DecisionTreeClassifier</div></div><div><a class=\"sk-estimator-doc-link fitted\" rel=\"noreferrer\" target=\"_blank\" href=\"https://scikit-learn.org/1.6/modules/generated/sklearn.tree.DecisionTreeClassifier.html\">?<span>Documentation for DecisionTreeClassifier</span></a><span class=\"sk-estimator-doc-link fitted\">i<span>Fitted</span></span></div></label><div class=\"sk-toggleable__content fitted\"><pre>DecisionTreeClassifier(random_state=42)</pre></div> </div></div></div></div>"
      ],
      "text/plain": [
       "DecisionTreeClassifier(random_state=42)"
      ]
     },
     "execution_count": 41,
     "metadata": {},
     "output_type": "execute_result"
    }
   ],
   "source": [
    "from sklearn.tree import DecisionTreeClassifier\n",
    "model = DecisionTreeClassifier(random_state=42)\n",
    "model.fit(x_train, y_train)"
   ]
  },
  {
   "cell_type": "code",
   "execution_count": 42,
   "id": "b8226fe1-1ed9-4ffe-b775-969f335371db",
   "metadata": {},
   "outputs": [
    {
     "name": "stdout",
     "output_type": "stream",
     "text": [
      "Accuracy: 0.2991615374952895\n"
     ]
    }
   ],
   "source": [
    "from sklearn.metrics import accuracy_score\n",
    "y_pred = model.predict(x_val)\n",
    "print(\"Accuracy:\", accuracy_score(y_val, y_pred))"
   ]
  },
  {
   "cell_type": "code",
   "execution_count": 3,
   "id": "8213e354-4812-4f0c-ba04-429f1a816b50",
   "metadata": {},
   "outputs": [],
   "source": [
    "import pandas as pd\n",
    "train_data = pd.read_csv(r\"C:/Users/asus/Downloads/Healthcare\" + r\"/train_data.csv\")"
   ]
  },
  {
   "cell_type": "code",
   "execution_count": 5,
   "id": "b8789240-7482-4971-bf88-1f7950d0e6df",
   "metadata": {},
   "outputs": [],
   "source": [
    "from sklearn.model_selection import train_test_split\n",
    "\n",
    "x = train_data.drop(['Stay'], axis=1)\n",
    "y = train_data['Stay']\n",
    "\n",
    "x_train, x_val, y_train, y_val = train_test_split(x, y, test_size=0.2, random_state=42)"
   ]
  },
  {
   "cell_type": "code",
   "execution_count": 7,
   "id": "6bf20c31-beb8-49f6-a4cc-fd254ee4e61f",
   "metadata": {},
   "outputs": [
    {
     "data": {
      "text/plain": [
       "Index(['Hospital_type_code', 'Hospital_region_code', 'Department', 'Ward_Type',\n",
       "       'Ward_Facility_Code', 'Type of Admission', 'Severity of Illness', 'Age',\n",
       "       'Stay'],\n",
       "      dtype='object')"
      ]
     },
     "execution_count": 7,
     "metadata": {},
     "output_type": "execute_result"
    }
   ],
   "source": [
    "train_data.select_dtypes(include=['object']).columns"
   ]
  },
  {
   "cell_type": "code",
   "execution_count": 14,
   "id": "d91543c9-ebdd-408e-b586-b35eb74a52b0",
   "metadata": {},
   "outputs": [],
   "source": [
    "for col in train_data.select_dtypes(include=['object']).columns:\n",
    "    train_data[col] = train_data[col].astype('category').cat.code"
   ]
  },
  {
   "cell_type": "code",
   "execution_count": 15,
   "id": "1d6c328e-33dd-40b9-8707-eab64e40fa5c",
   "metadata": {},
   "outputs": [
    {
     "name": "stdout",
     "output_type": "stream",
     "text": [
      "Accuracy: 0.4144265795754302\n"
     ]
    }
   ],
   "source": [
    "x = train_data.drop(['Stay'], axis=1)\n",
    "y = train_data['Stay']\n",
    "\n",
    "from sklearn.model_selection import train_test_split\n",
    "x_train, x_val, y_train, y_val = train_test_split(x, y, test_size=0.2, random_state=42)\n",
    "\n",
    "from sklearn.ensemble import RandomForestClassifier\n",
    "from sklearn.metrics import accuracy_score\n",
    "\n",
    "model = RandomForestClassifier(random_state=42)\n",
    "model.fit(x_train, y_train)\n",
    "\n",
    "y_pred = model.predict(x_val)\n",
    "print(\"Accuracy:\", accuracy_score(y_val, y_pred))"
   ]
  },
  {
   "cell_type": "code",
   "execution_count": 16,
   "id": "9cc61fbd-e62f-418d-aaf6-6dba9fa02a38",
   "metadata": {},
   "outputs": [
    {
     "name": "stdout",
     "output_type": "stream",
     "text": [
      "                              Feature  Importance\n",
      "16                  Admission_Deposit    0.157232\n",
      "0                             case_id    0.152372\n",
      "10                          patientid    0.148355\n",
      "14              Visitors with Patient    0.084738\n",
      "15                                Age    0.080636\n",
      "11                  City_Code_Patient    0.077353\n",
      "5   Available Extra Rooms in Hospital    0.050251\n",
      "1                       Hospital_code    0.039410\n",
      "9                           Bed Grade    0.034942\n",
      "7                           Ward_Type    0.034355\n",
      "6                          Department    0.030998\n",
      "13                Severity of Illness    0.030973\n",
      "12                  Type of Admission    0.022026\n",
      "3                  City_Code_Hospital    0.019249\n",
      "2                  Hospital_type_code    0.015108\n",
      "8                  Ward_Facility_Code    0.013763\n",
      "4                Hospital_region_code    0.008240\n"
     ]
    }
   ],
   "source": [
    "import pandas as pd\n",
    "import numpy as np\n",
    "\n",
    "importances = model.feature_importances_\n",
    "features = x.columns\n",
    "importance_df = pd.DataFrame({'Feature': features, 'Importance': importances})\n",
    "print(importance_df.sort_values('Importance', ascending=False))"
   ]
  },
  {
   "cell_type": "code",
   "execution_count": 17,
   "id": "9e7ec498-62f1-4f10-a845-ac0d3d70877d",
   "metadata": {},
   "outputs": [
    {
     "name": "stdout",
     "output_type": "stream",
     "text": [
      "Improved Accuracy: 0.42441276221580204\n"
     ]
    }
   ],
   "source": [
    "model = RandomForestClassifier(\n",
    "    n_estimators=150,\n",
    "    max_depth=15,\n",
    "    min_samples_split=10,\n",
    "    min_samples_leaf=5,\n",
    "    random_state=42,\n",
    "    n_jobs=-1\n",
    ")\n",
    "model.fit(x_train, y_train)\n",
    "y_pred = model.predict(x_val)\n",
    "print(\"Improved Accuracy:\", accuracy_score(y_val, y_pred))"
   ]
  },
  {
   "cell_type": "code",
   "execution_count": 20,
   "id": "17bf4add-60d5-4c3b-99b7-bcabbbd040e6",
   "metadata": {},
   "outputs": [],
   "source": [
    "from sklearn.preprocessing import LabelEncoder\n",
    "\n",
    "le = LabelEncoder()\n",
    "for col in train_data.columns:\n",
    "    if train_data[col].dtype == 'object':\n",
    "        train_data[col] = le.fit_transform(train_data[col])"
   ]
  },
  {
   "cell_type": "code",
   "execution_count": 21,
   "id": "cba03929-2b5e-46e9-a851-246c024d5997",
   "metadata": {},
   "outputs": [
    {
     "name": "stdout",
     "output_type": "stream",
     "text": [
      "Improved Accuracy: 0.4246796884813466\n"
     ]
    }
   ],
   "source": [
    "x = train_data.drop(['Stay'], axis=1)\n",
    "y = train_data['Stay']\n",
    "\n",
    "from sklearn.model_selection import train_test_split\n",
    "x_train, x_val, y_train, y_val = train_test_split(x, y, test_size=0.2, random_state=42)\n",
    "\n",
    "from sklearn.ensemble import RandomForestClassifier\n",
    "model = RandomForestClassifier(\n",
    "    n_estimators=200,\n",
    "    max_depth=20,\n",
    "    min_samples_split=5,\n",
    "    min_samples_leaf=3,\n",
    "    random_state=42,\n",
    "    n_jobs=-1\n",
    ")\n",
    "model.fit(x_train, y_train)\n",
    "y_pred = model.predict(x_val)\n",
    "\n",
    "from sklearn.metrics import accuracy_score\n",
    "print(\"Improved Accuracy:\", accuracy_score(y_val, y_pred))"
   ]
  },
  {
   "cell_type": "code",
   "execution_count": 24,
   "id": "073ebc87-12b3-4e74-8885-72e0728af4b4",
   "metadata": {},
   "outputs": [],
   "source": [
    "from sklearn.preprocessing import LabelEncoder\n",
    "\n",
    "le = LabelEncoder()\n",
    "for col in train_data.columns:\n",
    "    if train_data[col].dtype == 'object':\n",
    "        train_data[col] = le.fit_transform(train_data[col])"
   ]
  },
  {
   "cell_type": "code",
   "execution_count": 25,
   "id": "4a114ed7-e016-4ffe-bb4f-9fd4324a5fc4",
   "metadata": {},
   "outputs": [
    {
     "name": "stdout",
     "output_type": "stream",
     "text": [
      "Improved Accuracy: 0.4272547418665997\n"
     ]
    }
   ],
   "source": [
    "from sklearn.ensemble import RandomForestClassifier\n",
    "\n",
    "model = RandomForestClassifier(\n",
    "    n_estimators=300,       # more trees = better learning\n",
    "    max_depth=20,           # deeper understanding of data\n",
    "    random_state=42\n",
    ")\n",
    "model.fit(x_train, y_train)\n",
    "y_pred = model.predict(x_val)\n",
    "\n",
    "from sklearn.metrics import accuracy_score\n",
    "print(\"Improved Accuracy:\", accuracy_score(y_val, y_pred))"
   ]
  },
  {
   "cell_type": "code",
   "execution_count": 26,
   "id": "6c1490d1-eb86-428d-9c83-c2f2bb94aaff",
   "metadata": {},
   "outputs": [
    {
     "name": "stdout",
     "output_type": "stream",
     "text": [
      "Shape: (318438, 18)\n",
      "\n",
      "Column names and data types:\n",
      "case_id                                int64\n",
      "Hospital_code                          int64\n",
      "Hospital_type_code                      int8\n",
      "City_Code_Hospital                     int64\n",
      "Hospital_region_code                    int8\n",
      "Available Extra Rooms in Hospital      int64\n",
      "Department                              int8\n",
      "Ward_Type                               int8\n",
      "Ward_Facility_Code                      int8\n",
      "Bed Grade                            float64\n",
      "patientid                              int64\n",
      "City_Code_Patient                    float64\n",
      "Type of Admission                       int8\n",
      "Severity of Illness                     int8\n",
      "Visitors with Patient                  int64\n",
      "Age                                     int8\n",
      "Admission_Deposit                    float64\n",
      "Stay                                    int8\n",
      "dtype: object\n",
      "\n",
      "Number of unique values in each column:\n",
      " case_id                              318438\n",
      "Hospital_code                            32\n",
      "Hospital_type_code                        7\n",
      "City_Code_Hospital                       11\n",
      "Hospital_region_code                      3\n",
      "Available Extra Rooms in Hospital        18\n",
      "Department                                5\n",
      "Ward_Type                                 6\n",
      "Ward_Facility_Code                        6\n",
      "Bed Grade                                 4\n",
      "patientid                             92017\n",
      "City_Code_Patient                        37\n",
      "Type of Admission                         3\n",
      "Severity of Illness                       3\n",
      "Visitors with Patient                    28\n",
      "Age                                      10\n",
      "Admission_Deposit                      7300\n",
      "Stay                                     11\n",
      "dtype: int64\n",
      "\n",
      "Sample data:\n",
      "   case_id  Hospital_code  Hospital_type_code  City_Code_Hospital  \\\n",
      "0        1              8                   2                   3   \n",
      "1        2              2                   2                   5   \n",
      "2        3             10                   4                   1   \n",
      "\n",
      "   Hospital_region_code  Available Extra Rooms in Hospital  Department  \\\n",
      "0                     2                                  3           3   \n",
      "1                     2                                  2           3   \n",
      "2                     0                                  2           1   \n",
      "\n",
      "   Ward_Type  Ward_Facility_Code  Bed Grade  patientid  City_Code_Patient  \\\n",
      "0          2                   5        2.0      31397                7.0   \n",
      "1          3                   5        2.0      31397                7.0   \n",
      "2          3                   4        2.0      31397                7.0   \n",
      "\n",
      "   Type of Admission  Severity of Illness  Visitors with Patient  Age  \\\n",
      "0                  0                    0                      2    5   \n",
      "1                  1                    0                      2    5   \n",
      "2                  1                    0                      2    5   \n",
      "\n",
      "   Admission_Deposit  Stay  \n",
      "0             4911.0     0  \n",
      "1             5954.0     4  \n",
      "2             4745.0     3  \n"
     ]
    }
   ],
   "source": [
    "print(\"Shape:\", train_data.shape)\n",
    "print(\"\\nColumn names and data types:\\n\", train_data.dtypes)\n",
    "print(\"\\nNumber of unique values in each column:\\n\", train_data.nunique())\n",
    "print(\"\\nSample data:\\n\", train_data.head(3))"
   ]
  },
  {
   "cell_type": "code",
   "execution_count": 5,
   "id": "d1f118fe-e61d-444f-a4e7-d52b190ad8db",
   "metadata": {},
   "outputs": [
    {
     "data": {
      "text/plain": [
       "Stay\n",
       "21-30                 87491\n",
       "11-20                 78139\n",
       "31-40                 55159\n",
       "51-60                 35018\n",
       "0-10                  23604\n",
       "41-50                 11743\n",
       "71-80                 10254\n",
       "More than 100 Days     6683\n",
       "81-90                  4838\n",
       "91-100                 2765\n",
       "61-70                  2744\n",
       "Name: count, dtype: int64"
      ]
     },
     "execution_count": 5,
     "metadata": {},
     "output_type": "execute_result"
    }
   ],
   "source": [
    "train_data['Stay'].value_counts()"
   ]
  },
  {
   "cell_type": "code",
   "execution_count": 7,
   "id": "24b7b41f-3a43-40b8-a7ef-039eaf421a2e",
   "metadata": {},
   "outputs": [
    {
     "data": {
      "text/plain": [
       "<bound method DataFrame.sum of         case_id  Hospital_code  Hospital_type_code  City_Code_Hospital  \\\n",
       "0         False          False               False               False   \n",
       "1         False          False               False               False   \n",
       "2         False          False               False               False   \n",
       "3         False          False               False               False   \n",
       "4         False          False               False               False   \n",
       "...         ...            ...                 ...                 ...   \n",
       "318433    False          False               False               False   \n",
       "318434    False          False               False               False   \n",
       "318435    False          False               False               False   \n",
       "318436    False          False               False               False   \n",
       "318437    False          False               False               False   \n",
       "\n",
       "        Hospital_region_code  Available Extra Rooms in Hospital  Department  \\\n",
       "0                      False                              False       False   \n",
       "1                      False                              False       False   \n",
       "2                      False                              False       False   \n",
       "3                      False                              False       False   \n",
       "4                      False                              False       False   \n",
       "...                      ...                                ...         ...   \n",
       "318433                 False                              False       False   \n",
       "318434                 False                              False       False   \n",
       "318435                 False                              False       False   \n",
       "318436                 False                              False       False   \n",
       "318437                 False                              False       False   \n",
       "\n",
       "        Ward_Type  Ward_Facility_Code  Bed Grade  patientid  \\\n",
       "0           False               False      False      False   \n",
       "1           False               False      False      False   \n",
       "2           False               False      False      False   \n",
       "3           False               False      False      False   \n",
       "4           False               False      False      False   \n",
       "...           ...                 ...        ...        ...   \n",
       "318433      False               False      False      False   \n",
       "318434      False               False      False      False   \n",
       "318435      False               False      False      False   \n",
       "318436      False               False      False      False   \n",
       "318437      False               False      False      False   \n",
       "\n",
       "        City_Code_Patient  Type of Admission  Severity of Illness  \\\n",
       "0                   False              False                False   \n",
       "1                   False              False                False   \n",
       "2                   False              False                False   \n",
       "3                   False              False                False   \n",
       "4                   False              False                False   \n",
       "...                   ...                ...                  ...   \n",
       "318433              False              False                False   \n",
       "318434              False              False                False   \n",
       "318435              False              False                False   \n",
       "318436              False              False                False   \n",
       "318437              False              False                False   \n",
       "\n",
       "        Visitors with Patient    Age  Admission_Deposit   Stay  \n",
       "0                       False  False              False  False  \n",
       "1                       False  False              False  False  \n",
       "2                       False  False              False  False  \n",
       "3                       False  False              False  False  \n",
       "4                       False  False              False  False  \n",
       "...                       ...    ...                ...    ...  \n",
       "318433                  False  False              False  False  \n",
       "318434                  False  False              False  False  \n",
       "318435                  False  False              False  False  \n",
       "318436                  False  False              False  False  \n",
       "318437                  False  False              False  False  \n",
       "\n",
       "[318438 rows x 18 columns]>"
      ]
     },
     "execution_count": 7,
     "metadata": {},
     "output_type": "execute_result"
    }
   ],
   "source": [
    "train_data.isnull().sum"
   ]
  },
  {
   "cell_type": "code",
   "execution_count": null,
   "id": "957842ae-d91a-4b97-8fdc-fd4ab3981cb8",
   "metadata": {},
   "outputs": [],
   "source": []
  }
 ],
 "metadata": {
  "kernelspec": {
   "display_name": "Python [conda env:base] *",
   "language": "python",
   "name": "conda-base-py"
  },
  "language_info": {
   "codemirror_mode": {
    "name": "ipython",
    "version": 3
   },
   "file_extension": ".py",
   "mimetype": "text/x-python",
   "name": "python",
   "nbconvert_exporter": "python",
   "pygments_lexer": "ipython3",
   "version": "3.13.5"
  }
 },
 "nbformat": 4,
 "nbformat_minor": 5
}
